{
 "cells": [
  {
   "cell_type": "code",
   "execution_count": 1,
   "metadata": {
    "collapsed": true
   },
   "outputs": [],
   "source": [
    "from pyqtgraph.Qt import QtGui, QtCore\n",
    "import numpy as np\n",
    "import pyqtgraph as pg"
   ]
  },
  {
   "cell_type": "code",
   "execution_count": 2,
   "metadata": {},
   "outputs": [],
   "source": [
    "app = QtGui.QApplication([])\n",
    "\n",
    "win = pg.GraphicsWindow(title=\"Basic plotting examples\") # Open a graphics window for pyqtgraph\n",
    "win.resize(1000,1000) # set size of window\n",
    "\n",
    "pg.setConfigOptions(antialias=True) # Enable antialiasing for prettier plots\n",
    "\n",
    "p1 = win.addPlot(title=\"Basic array plotting\") # add a plot with title\n",
    "p1.setDownsampling(mode='peak') # downsampling reduces draw load\n",
    "p1.setClipToView(True) # dont know\n",
    "p1.setRange(xRange=[-100, 0]) # set the initial plot range\n",
    "p1.setLimits(xMax=0) # set the maximum of the plot (is this needed?)\n",
    "curve1 = p1.plot() \n",
    " \n",
    "data1 = np.empty(100) # create empty numpy array to be filled \n",
    "ptr1 = 0 # points to position on array\n",
    "\n",
    "def update1():\n",
    "    global data1, ptr1\n",
    "    data1[ptr1] = np.random.normal() # generate a random number\n",
    "    ptr1 += 1 # increase pointer\n",
    "    if ptr1 >= data1.shape[0]: # is the pointer number larger than the length of the array?\n",
    "        tmp = data1 # put the data in a temp. array\n",
    "        data1 = np.empty(data1.shape[0] * 2) # generate an empty array with double the length of the current array\n",
    "        data1[:tmp.shape[0]] = tmp # fill the new array with the old data\n",
    "    curve1.setData(data1[:ptr1]) # update the plot (only new data)\n",
    "\n",
    "win.nextRow() # add a new row for plots \n",
    "\n",
    "p2 = win.addPlot(title=\"Basic array plotting\") # add a plot\n",
    "\n",
    "# update all the plots (if there are more than one, otherwise this is not needed)\n",
    "def update():\n",
    "    update1()\n",
    "\n",
    "timer = pg.QtCore.QTimer() # generate a timer object\n",
    "timer.timeout.connect(update) # run 'update' everytime the timer ticks\n",
    "timer.start(50) # timer ticks every X ms (50)\n",
    "\n",
    "## Start Qt event loop unless running in interactive mode or using pyside.\n",
    "if __name__ == '__main__':\n",
    "    import sys\n",
    "    if (sys.flags.interactive != 1) or not hasattr(QtCore, 'PYQT_VERSION'):\n",
    "        QtGui.QApplication.instance().exec_()"
   ]
  },
  {
   "cell_type": "code",
   "execution_count": 7,
   "metadata": {},
   "outputs": [
    {
     "data": {
      "text/plain": [
       "100"
      ]
     },
     "execution_count": 7,
     "metadata": {},
     "output_type": "execute_result"
    }
   ],
   "source": [
    "data1 = np.empty(100) # create empty numpy array to be filled \n",
    "\n",
    "data1.shape[0]\n",
    "\n"
   ]
  },
  {
   "cell_type": "code",
   "execution_count": null,
   "metadata": {
    "collapsed": true
   },
   "outputs": [],
   "source": []
  }
 ],
 "metadata": {
  "kernelspec": {
   "display_name": "Python 3",
   "language": "python",
   "name": "python3"
  },
  "language_info": {
   "codemirror_mode": {
    "name": "ipython",
    "version": 3
   },
   "file_extension": ".py",
   "mimetype": "text/x-python",
   "name": "python",
   "nbconvert_exporter": "python",
   "pygments_lexer": "ipython3",
   "version": "3.6.2"
  }
 },
 "nbformat": 4,
 "nbformat_minor": 2
}
